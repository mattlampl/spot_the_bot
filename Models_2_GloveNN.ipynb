{
  "nbformat": 4,
  "nbformat_minor": 0,
  "metadata": {
    "colab": {
      "provenance": []
    },
    "kernelspec": {
      "name": "python3",
      "display_name": "Python 3"
    },
    "language_info": {
      "name": "python"
    }
  },
  "cells": [
    {
      "cell_type": "code",
      "execution_count": null,
      "metadata": {
        "colab": {
          "base_uri": "https://localhost:8080/"
        },
        "id": "_f8dI6wdY8Kf",
        "outputId": "1a0e92aa-4ba7-493e-cad5-9d0f6afb90a9"
      },
      "outputs": [
        {
          "output_type": "stream",
          "name": "stdout",
          "text": [
            "/content/drive/.shortcut-targets-by-id/1b0aOZUUZU-pUB5eS1R6Z500OSwpJu5xX/02- Intro to AI project/TwiBot-20/Twibot-20\n"
          ]
        }
      ],
      "source": [
        "%cd /content/drive/MyDrive/02- Intro to AI project/TwiBot-20/Twibot-20"
      ]
    },
    {
      "cell_type": "code",
      "source": [
        "import numpy as np\n",
        "from keras.models import Sequential\n",
        "from keras.layers import Dense, Dropout, Flatten, Embedding\n",
        "from keras.preprocessing.text import Tokenizer\n",
        "from keras.utils import pad_sequences\n",
        "from keras.utils import to_categorical\n",
        "from sklearn.model_selection import train_test_split\n",
        "import pandas as pd"
      ],
      "metadata": {
        "id": "qbRL4x1-adm_"
      },
      "execution_count": null,
      "outputs": []
    },
    {
      "cell_type": "code",
      "source": [
        "data = pd.read_csv('clean_train.csv')"
      ],
      "metadata": {
        "colab": {
          "base_uri": "https://localhost:8080/"
        },
        "id": "SW0f37j5bQcF",
        "outputId": "dd62386d-e8ce-4a3d-bf2e-1d1f95f45e78"
      },
      "execution_count": null,
      "outputs": [
        {
          "output_type": "stream",
          "name": "stderr",
          "text": [
            "<ipython-input-3-6d0104a409ab>:1: DtypeWarning: Columns (21,22,23,24,25,26,27,28,29,30,31,32,33,34,35,36,37,38,39,40,41,42,43,44,45,46,47,48,49,50,51,52,53,54,55,56,57) have mixed types. Specify dtype option on import or set low_memory=False.\n",
            "  data = pd.read_csv('clean_train.csv')\n"
          ]
        }
      ]
    },
    {
      "cell_type": "code",
      "source": [
        "data = data[['cleaned_tweets', 'label']].values"
      ],
      "metadata": {
        "id": "3Y1sTA5db6m7"
      },
      "execution_count": null,
      "outputs": []
    },
    {
      "cell_type": "code",
      "source": [
        "test_data = pd.read_csv('clean_test.csv')\n",
        "test_data = test_data[['cleaned_tweets', 'label']].values"
      ],
      "metadata": {
        "colab": {
          "base_uri": "https://localhost:8080/"
        },
        "id": "LvELAaf3cWWM",
        "outputId": "0ef7d01f-f1ab-478e-f83d-cc10f3a81324"
      },
      "execution_count": null,
      "outputs": [
        {
          "output_type": "stream",
          "name": "stderr",
          "text": [
            "<ipython-input-5-153cf8eb16ec>:1: DtypeWarning: Columns (25,26,27,28,29,30,31,32,33,34,35,36,37,38,39,40,41,42,43,44,45,46,47,48,49,50,51,52,53,54,55,56,57) have mixed types. Specify dtype option on import or set low_memory=False.\n",
            "  test_data = pd.read_csv('clean_test.csv')\n"
          ]
        }
      ]
    },
    {
      "cell_type": "code",
      "source": [
        "X_train, y_train = data[:,0], data[:,1]\n",
        "X_test, y_test = test_data[:,0], test_data[:,1]\n",
        "\n",
        "X_train = X_train.astype('str')\n",
        "X_test = X_test.astype('str')"
      ],
      "metadata": {
        "id": "C6d5G3IrccfW"
      },
      "execution_count": null,
      "outputs": []
    },
    {
      "cell_type": "code",
      "source": [
        "y_train, y_test = y_train.astype('bool'), y_test.astype('bool')"
      ],
      "metadata": {
        "id": "psJGR6D5hkSh"
      },
      "execution_count": null,
      "outputs": []
    },
    {
      "cell_type": "code",
      "source": [
        "data, test_data = None, None"
      ],
      "metadata": {
        "id": "enOKfyBzd5Qx"
      },
      "execution_count": null,
      "outputs": []
    },
    {
      "cell_type": "code",
      "source": [
        "tokenizer = Tokenizer(num_words=5000)\n",
        "tokenizer.fit_on_texts(X_train)"
      ],
      "metadata": {
        "id": "Htua_IyHc4mv"
      },
      "execution_count": null,
      "outputs": []
    },
    {
      "cell_type": "code",
      "source": [
        "X_train_seq = tokenizer.texts_to_sequences(X_train)"
      ],
      "metadata": {
        "id": "dvg_c7x4c-eW"
      },
      "execution_count": null,
      "outputs": []
    },
    {
      "cell_type": "code",
      "source": [
        "X_test_seq = tokenizer.texts_to_sequences(X_test)"
      ],
      "metadata": {
        "id": "U-q7qIHddAXu"
      },
      "execution_count": null,
      "outputs": []
    },
    {
      "cell_type": "code",
      "source": [
        "max_length = 100\n",
        "X_train_pad = pad_sequences(X_train_seq, maxlen=max_length)\n",
        "X_test_pad = pad_sequences(X_test_seq, maxlen=max_length)"
      ],
      "metadata": {
        "id": "6ddSkGfZeAm3"
      },
      "execution_count": null,
      "outputs": []
    },
    {
      "cell_type": "code",
      "source": [
        "embeddings_dict = {}\n",
        "with open('glove.twitter.27B.25d.txt', encoding='utf8') as f:\n",
        "  for line in f:\n",
        "    values = line.split()\n",
        "    word = values[0]\n",
        "    coefs = np.asarray(values[1:], dtype='float32')\n",
        "    embeddings_dict[word] = coefs"
      ],
      "metadata": {
        "id": "HYd0u8KMeNll"
      },
      "execution_count": null,
      "outputs": []
    },
    {
      "cell_type": "code",
      "source": [
        "embedding_matrix = np.zeros((5000, 25))\n",
        "for word, index in tokenizer.word_index.items():\n",
        "  if index > 5000 - 1:\n",
        "    break\n",
        "  else:\n",
        "    embedding_vector = embeddings_dict.get(word)\n",
        "    if embedding_vector is not None:\n",
        "      embedding_matrix[index] = embedding_vector"
      ],
      "metadata": {
        "id": "V3gUhZ69fVyz"
      },
      "execution_count": null,
      "outputs": []
    },
    {
      "cell_type": "code",
      "source": [
        "model = Sequential()\n",
        "model.add(Embedding(5000, 25, \n",
        "          weights=[embedding_matrix], \n",
        "          input_length=max_length,\n",
        "          trainable=False))\n",
        "model.add(Flatten())\n",
        "model.add(Dense(32, activation='relu'))\n",
        "model.add(Dropout(0.5))\n",
        "model.add(Dense(1, activation='sigmoid'))"
      ],
      "metadata": {
        "id": "93yp4ym0f-34"
      },
      "execution_count": null,
      "outputs": []
    },
    {
      "cell_type": "code",
      "source": [
        "model.compile(optimizer='adam', loss='binary_crossentropy',\n",
        "              metrics=['accuracy'])\n",
        "model.fit(X_train_pad, y_train, \n",
        "          validation_data=(X_test_pad, y_test),\n",
        "          epochs=10, batch_size=32)\n",
        "loss, accuracy = model.evaluate(X_test_pad, y_test)\n",
        "print('Test accuracy:', accuracy)"
      ],
      "metadata": {
        "colab": {
          "base_uri": "https://localhost:8080/"
        },
        "id": "ZseCc6o1gUpr",
        "outputId": "ad3b1ac0-f069-4e87-8781-b1d8e910bea2"
      },
      "execution_count": null,
      "outputs": [
        {
          "output_type": "stream",
          "name": "stdout",
          "text": [
            "Epoch 1/10\n",
            "39078/39078 [==============================] - 148s 4ms/step - loss: 0.6516 - accuracy: 0.6259 - val_loss: 0.6573 - val_accuracy: 0.6059\n",
            "Epoch 2/10\n",
            "39078/39078 [==============================] - 147s 4ms/step - loss: 0.6496 - accuracy: 0.6269 - val_loss: 0.6581 - val_accuracy: 0.5995\n",
            "Epoch 3/10\n",
            "39078/39078 [==============================] - 147s 4ms/step - loss: 0.6488 - accuracy: 0.6270 - val_loss: 0.6582 - val_accuracy: 0.5998\n",
            "Epoch 4/10\n",
            "39078/39078 [==============================] - 147s 4ms/step - loss: 0.6481 - accuracy: 0.6274 - val_loss: 0.6567 - val_accuracy: 0.6067\n",
            "Epoch 5/10\n",
            "39078/39078 [==============================] - 146s 4ms/step - loss: 0.6477 - accuracy: 0.6281 - val_loss: 0.6599 - val_accuracy: 0.5991\n",
            "Epoch 6/10\n",
            "39078/39078 [==============================] - 145s 4ms/step - loss: 0.6470 - accuracy: 0.6283 - val_loss: 0.6578 - val_accuracy: 0.6068\n",
            "Epoch 7/10\n",
            "39078/39078 [==============================] - 146s 4ms/step - loss: 0.6467 - accuracy: 0.6286 - val_loss: 0.6571 - val_accuracy: 0.6067\n",
            "Epoch 8/10\n",
            "39078/39078 [==============================] - 146s 4ms/step - loss: 0.6465 - accuracy: 0.6288 - val_loss: 0.6575 - val_accuracy: 0.6009\n",
            "Epoch 9/10\n",
            "39078/39078 [==============================] - 148s 4ms/step - loss: 0.6462 - accuracy: 0.6294 - val_loss: 0.6568 - val_accuracy: 0.6080\n",
            "Epoch 10/10\n",
            "39078/39078 [==============================] - 147s 4ms/step - loss: 0.6461 - accuracy: 0.6292 - val_loss: 0.6582 - val_accuracy: 0.6075\n",
            "5570/5570 [==============================] - 12s 2ms/step - loss: 0.6582 - accuracy: 0.6075\n",
            "Test accuracy: 0.6075220108032227\n"
          ]
        }
      ]
    },
    {
      "cell_type": "code",
      "source": [
        "from sklearn.metrics import classification_report, confusion_matrix, ConfusionMatrixDisplay\n",
        "y_pred = model.predict(X_test_pad)\n",
        "y_pred_cutoff = np.array([True if pred > 0.5 else False for pred in y_pred])\n",
        "print(classification_report(y_test, y_pred_cutoff))\n",
        "cm = confusion_matrix(y_test, y_pred_cutoff)\n",
        "disp = ConfusionMatrixDisplay(confusion_matrix=cm)\n",
        "disp.plot()"
      ],
      "metadata": {
        "colab": {
          "base_uri": "https://localhost:8080/",
          "height": 651
        },
        "id": "1uDg10zshw9a",
        "outputId": "7070c052-8fd2-4e43-9caa-89b1c74ee1f3"
      },
      "execution_count": null,
      "outputs": [
        {
          "output_type": "stream",
          "name": "stdout",
          "text": [
            "5570/5570 [==============================] - 11s 2ms/step\n",
            "              precision    recall  f1-score   support\n",
            "\n",
            "       False       0.64      0.26      0.37     78694\n",
            "        True       0.60      0.88      0.72     99530\n",
            "\n",
            "    accuracy                           0.61    178224\n",
            "   macro avg       0.62      0.57      0.54    178224\n",
            "weighted avg       0.62      0.61      0.56    178224\n",
            "\n"
          ]
        },
        {
          "output_type": "execute_result",
          "data": {
            "text/plain": [
              "<sklearn.metrics._plot.confusion_matrix.ConfusionMatrixDisplay at 0x7f8283f2c250>"
            ]
          },
          "metadata": {},
          "execution_count": 41
        },
        {
          "output_type": "display_data",
          "data": {
            "text/plain": [
              "<Figure size 640x480 with 2 Axes>"
            ],
            "image/png": "[encoded data removed]"
          },
          "metadata": {}
        }
      ]
    },
    {
      "cell_type": "code",
      "source": [
        "from sklearn.metrics import roc_curve\n",
        "import matplotlib.pyplot as plt\n",
        "\n",
        "fpr, tpr, thresholds = roc_curve(y_test, y_pred, pos_label=1)"
      ],
      "metadata": {
        "id": "nUEk20oQo4H3"
      },
      "execution_count": null,
      "outputs": []
    },
    {
      "cell_type": "code",
      "source": [
        "plt.plot(fpr, tpr)\n",
        "plt.xlabel('FPR'); plt.ylabel('TPR')\n",
        "plt.title(\"ROC Curve\")"
      ],
      "metadata": {
        "colab": {
          "base_uri": "https://localhost:8080/",
          "height": 490
        },
        "id": "9-WJSEMwngAe",
        "outputId": "d6c25d13-1a6c-42aa-8201-872b9cea3f68"
      },
      "execution_count": null,
      "outputs": [
        {
          "output_type": "execute_result",
          "data": {
            "text/plain": [
              "Text(0.5, 1.0, 'ROC Curve')"
            ]
          },
          "metadata": {},
          "execution_count": 47
        },
        {
          "output_type": "display_data",
          "data": {
            "text/plain": [
              "<Figure size 640x480 with 1 Axes>"
            ],
            "image/png": "[encoded data removed]"
          },
          "metadata": {}
        }
      ]
    },
    {
      "cell_type": "code",
      "source": [],
      "metadata": {
        "id": "rU8n0iEnoNvY"
      },
      "execution_count": null,
      "outputs": []
    }
  ]
}