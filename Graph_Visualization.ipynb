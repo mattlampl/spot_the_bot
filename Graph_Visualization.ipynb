{
  "nbformat": 4,
  "nbformat_minor": 0,
  "metadata": {
    "colab": {
      "provenance": []
    },
    "kernelspec": {
      "name": "python3",
      "display_name": "Python 3"
    },
    "language_info": {
      "name": "python"
    }
  },
  "cells": [
    {
      "cell_type": "markdown",
      "source": [
        "# Prepare the data for flourish\n",
        "Two files are needed for each network:\n",
        "- **Points**: User IDs with their label\n",
        "- **Links**: User IDs with User IDs of following/followers"
      ],
      "metadata": {
        "id": "ocExtN294IQ9"
      }
    },
    {
      "cell_type": "code",
      "execution_count": null,
      "metadata": {
        "id": "hliPk0OXOfr7"
      },
      "outputs": [],
      "source": [
        "import pandas as pd\n",
        "import matplotlib.pyplot as plt\n",
        "import numpy as np\n",
        "import ast"
      ]
    },
    {
      "cell_type": "code",
      "source": [
        "\n",
        "from google.colab import drive\n",
        "drive.mount('/content/drive')"
      ],
      "metadata": {
        "colab": {
          "base_uri": "https://localhost:8080/"
        },
        "id": "xgEfMF_k1Yb9",
        "outputId": "1fb06aef-7d93-447c-9094-29f08dff18b7"
      },
      "execution_count": null,
      "outputs": [
        {
          "output_type": "stream",
          "name": "stdout",
          "text": [
            "Mounted at /content/drive\n"
          ]
        }
      ]
    },
    {
      "cell_type": "code",
      "source": [
        "%cd /content/drive/MyDrive/02- Intro to AI project/TwiBot-20/Twibot-20"
      ],
      "metadata": {
        "colab": {
          "base_uri": "https://localhost:8080/"
        },
        "id": "einfkKIsOl5-",
        "outputId": "13d6a048-5291-4a88-b05e-1f51fb8724ad"
      },
      "execution_count": null,
      "outputs": [
        {
          "output_type": "stream",
          "name": "stdout",
          "text": [
            "/content/drive/.shortcut-targets-by-id/1b0aOZUUZU-pUB5eS1R6Z500OSwpJu5xX/02- Intro to AI project/TwiBot-20/Twibot-20\n"
          ]
        }
      ]
    },
    {
      "cell_type": "code",
      "source": [
        "# Read data\n",
        "#file_path = '/content/gdrive/MyDrive/02- Intro to AI project/TwiBot-20/Twibot-20'\n",
        "users = pd.read_csv('users.csv')\n",
        "\n",
        "users.columns.values"
      ],
      "metadata": {
        "colab": {
          "base_uri": "https://localhost:8080/"
        },
        "id": "bz5U-IXF2AL2",
        "outputId": "12d1a5f3-c11c-49e4-e39f-7d5af2628548"
      },
      "execution_count": null,
      "outputs": [
        {
          "output_type": "execute_result",
          "data": {
            "text/plain": [
              "array(['id', 'id_str', 'name', 'screen_name', 'location',\n",
              "       'profile_location', 'description', 'url', 'entities', 'protected',\n",
              "       'followers_count', 'friends_count', 'listed_count', 'created_at',\n",
              "       'favourites_count', 'utc_offset', 'time_zone', 'geo_enabled',\n",
              "       'verified', 'statuses_count', 'lang', 'contributors_enabled',\n",
              "       'is_translator', 'is_translation_enabled',\n",
              "       'profile_background_color', 'profile_background_image_url',\n",
              "       'profile_background_image_url_https', 'profile_background_tile',\n",
              "       'profile_image_url', 'profile_image_url_https',\n",
              "       'profile_link_color', 'profile_sidebar_border_color',\n",
              "       'profile_sidebar_fill_color', 'profile_text_color',\n",
              "       'profile_use_background_image', 'has_extended_profile',\n",
              "       'default_profile', 'default_profile_image', 'neighbor', 'domain',\n",
              "       'label', 'following', 'followers'], dtype=object)"
            ]
          },
          "metadata": {},
          "execution_count": 5
        }
      ]
    },
    {
      "cell_type": "code",
      "source": [
        "users = users[['id', 'following', 'followers', 'label']]"
      ],
      "metadata": {
        "id": "J-NHGfHYOssO"
      },
      "execution_count": null,
      "outputs": []
    },
    {
      "cell_type": "code",
      "source": [
        "users = pd.read_csv('users.csv')\n",
        "\n",
        "users['id'] = users['id'].astype(str)\n",
        "\n",
        "# represent as lists\n",
        "users['following'] = users['following'].fillna('[]')\n",
        "users['followers'] = users['followers'].fillna('[]')\n",
        "\n",
        "# represent as lists\n",
        "users['following'] = users['following'].apply(lambda x: ast.literal_eval(x))\n",
        "users['followers'] = users['followers'].apply(lambda x: ast.literal_eval(x))"
      ],
      "metadata": {
        "id": "Umfwd5Zldkrm"
      },
      "execution_count": null,
      "outputs": []
    },
    {
      "cell_type": "code",
      "source": [
        "# flatten_matrix = [val for sublist in matrix for val in sublist]\n",
        "following_list = [user_id for user_list in users['following'] for user_id in user_list]\n",
        "following_list = list(set(following_list))\n",
        "\n",
        "followers_list = [user_id for user_list in users['followers'] for user_id in user_list]\n",
        "followers_list = list(set(followers_list))"
      ],
      "metadata": {
        "id": "jhwSxpticvvH"
      },
      "execution_count": null,
      "outputs": []
    },
    {
      "cell_type": "code",
      "source": [
        "# Points (following)\n",
        "points_following = users[['id', 'label', 'friends_count']]\n",
        "points_following = points_following[points_following['id'].isin(following_list)]\n",
        "points_following.to_csv('points_following.csv', index=False)"
      ],
      "metadata": {
        "id": "H8dPA9IhbzFO"
      },
      "execution_count": null,
      "outputs": []
    },
    {
      "cell_type": "code",
      "source": [
        "# points (followers)\n",
        "points_followers = users[['id', 'label', 'followers_count']]\n",
        "points_followers = points_followers[points_followers['id'].isin(followers_list)]\n",
        "points_followers.to_csv('points_followers.csv', index=False)"
      ],
      "metadata": {
        "id": "iPg_HrR_2IUU"
      },
      "execution_count": null,
      "outputs": []
    },
    {
      "cell_type": "code",
      "source": [
        "# Links (only following)\n",
        "links_following = users[['id', 'following']]\n",
        "links_following = links_following.explode('following').dropna()\n",
        "links_following = links_following[links_following['id'].isin(following_list)]\n",
        "links_following.to_csv('links_following.csv', index=False)"
      ],
      "metadata": {
        "id": "zl5P62U6dnjc"
      },
      "execution_count": null,
      "outputs": []
    },
    {
      "cell_type": "code",
      "source": [
        "# Links (followers)\n",
        "links_followers = users[['id', 'followers']]\n",
        "links_followers = links_followers.explode('followers').dropna()\n",
        "links_followers = links_followers[links_followers['id'].isin(followers_list)]\n",
        "links_followers.to_csv('links_followers.csv', index=False)"
      ],
      "metadata": {
        "id": "A7IbgR3KefmB"
      },
      "execution_count": null,
      "outputs": []
    }
  ]
}